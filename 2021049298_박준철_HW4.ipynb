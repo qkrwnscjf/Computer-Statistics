{
 "cells": [
  {
   "cell_type": "code",
   "execution_count": 8,
   "id": "9c705787",
   "metadata": {},
   "outputs": [],
   "source": [
    "#한 강좌는 두 개 분반으로 나뉘어 있다. 1분반의 경우, 25명의 여학생과 14명의 남학생이 있는 반면, 2분반의 경우는 19명의 여학생과 22명의 남학생으로 구성되어 있다.\n",
    "#이 두 분반의 여성의 비율이 다르다고 할 수 있는 지 5% 유의수준에서 검정하시오.\n",
    "\n",
    "import numpy as np\n",
    "import seaborn as sns\n",
    "from scipy.stats import norm"
   ]
  },
  {
   "cell_type": "code",
   "execution_count": 7,
   "id": "62c8c4ec",
   "metadata": {},
   "outputs": [
    {
     "name": "stdout",
     "output_type": "stream",
     "text": [
      "<Accept>\n",
      "T stat is 1.596\n",
      "pval is 0.11\n"
     ]
    }
   ],
   "source": [
    "def two_prop(x, n1, y, n2, alpha, alternative):\n",
    "  p1 = x/n1\n",
    "  p2 = y/n2\n",
    "  phat = (x+y) / (n1 + n2)\n",
    "  tstat = (p1 - p2) / (np.sqrt(phat * (1 - phat)) * np.sqrt(1/n1 + 1/n2))\n",
    "\n",
    "  if alternative == 'less':\n",
    "    pval = norm.cdf(tstat)\n",
    "    print(\"<Reject>\") if T < norm.ppf(alpha) else print(\"<Accept>\")\n",
    "  elif alternative == 'greater':\n",
    "    pval = 1 - norm.cdf(tstat)\n",
    "    print(\"<Reject>\") if tstat > norm.ppf(1 - alpha) else print(\"<Accept>\")\n",
    "  else: \n",
    "    pval = 2 * (1 - norm.cdf(tstat))\n",
    "    print(\"<Reject>\") if np.abs(tstat) > norm.ppf(1 - alpha/2) else print(\"<Accept>\")\n",
    "  return tstat, pval\n",
    "\n",
    "\n",
    "tstat , pval = two_prop(25,39,19,41,0.05,'two-sides')\n",
    "print(\"T stat is\",np.round(tstat,3))\n",
    "print(\"pval is\",np.round(pval,3))"
   ]
  },
  {
   "cell_type": "code",
   "execution_count": null,
   "id": "8a47165f",
   "metadata": {},
   "outputs": [],
   "source": []
  },
  {
   "cell_type": "code",
   "execution_count": null,
   "id": "85b9d7a6",
   "metadata": {},
   "outputs": [],
   "source": []
  }
 ],
 "metadata": {
  "kernelspec": {
   "display_name": "Python 3 (ipykernel)",
   "language": "python",
   "name": "python3"
  },
  "language_info": {
   "codemirror_mode": {
    "name": "ipython",
    "version": 3
   },
   "file_extension": ".py",
   "mimetype": "text/x-python",
   "name": "python",
   "nbconvert_exporter": "python",
   "pygments_lexer": "ipython3",
   "version": "3.9.2"
  }
 },
 "nbformat": 4,
 "nbformat_minor": 5
}
