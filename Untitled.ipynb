{
 "cells": [
  {
   "cell_type": "code",
   "execution_count": null,
   "id": "015f11d5",
   "metadata": {},
   "outputs": [],
   "source": [
    "# 다음 데이터는 사고 위험 점수와 자동차 의자의 위치를 조사한 데이터이다.\n",
    "\n",
    "# 의자의 위치가 사고 위험 점수에 영향이  있는지 설명하시오."
   ]
  },
  {
   "cell_type": "code",
   "execution_count": 3,
   "id": "39e9bcba",
   "metadata": {},
   "outputs": [],
   "source": [
    "import pandas as pd\n",
    "import statsmodels.formula.api as smf\n",
    "import statsmodels.api as sm"
   ]
  },
  {
   "cell_type": "code",
   "execution_count": null,
   "id": "8fae611c",
   "metadata": {},
   "outputs": [],
   "source": [
    "data1 = pd.read_csv(\"HW7_data.scv\")\n",
    "data1.head()"
   ]
  },
  {
   "cell_type": "code",
   "execution_count": null,
   "id": "4bb9c4f1",
   "metadata": {},
   "outputs": [],
   "source": [
    "data1.groupby"
   ]
  }
 ],
 "metadata": {
  "kernelspec": {
   "display_name": "Python 3 (ipykernel)",
   "language": "python",
   "name": "python3"
  },
  "language_info": {
   "codemirror_mode": {
    "name": "ipython",
    "version": 3
   },
   "file_extension": ".py",
   "mimetype": "text/x-python",
   "name": "python",
   "nbconvert_exporter": "python",
   "pygments_lexer": "ipython3",
   "version": "3.9.2"
  }
 },
 "nbformat": 4,
 "nbformat_minor": 5
}
