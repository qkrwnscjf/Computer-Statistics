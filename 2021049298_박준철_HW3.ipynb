{
 "cells": [
  {
   "cell_type": "code",
   "execution_count": 3,
   "id": "0d3e3f4d",
   "metadata": {},
   "outputs": [
    {
     "name": "stdout",
     "output_type": "stream",
     "text": [
      "The difference of means : -3.0546\n",
      "95% of CI of the difference of means is -4.1402 and -1.969\n"
     ]
    }
   ],
   "source": [
    "import numpy as np\n",
    "from scipy.stats import norm, t\n",
    "\n",
    "g1= np.array([10.89501377,  9.8230757,  10.32455374,  8.45578609,  9.39182539,  9.95700716,\n",
    " 10.29498543,  8.41609904, 10.58118058,  9.42093474, 11.36489356,  9.75706302,\n",
    " 10.59666392,  9.48271418,  8.80250863, 11.73252702,  9.59141368,  8.87440676,\n",
    " 10.97248738,  8.80258369, 10.12646653,  9.42512971,  9.42348484])\n",
    "\n",
    "g2 = np.array([15.34335212, 15.06043,    15.05874448, 12.10309741, 13.6968674,   7.48704952,\n",
    " 11.77819829, 16.02358925, 13.21098821, 10.94883044, 13.79482562,  8.01488572,\n",
    " 14.77561771, 11.43374432, 11.8929748,  14.45360182,  7.88874348, 13.09578147,\n",
    " 10.77408497, 13.2729849,  13.65794948, 11.37722784, 13.9492838,  16.04796856,\n",
    " 14.63420973, 15.70304421])\n",
    "\n",
    "\n",
    "g1_mean = np.mean(g1)\n",
    "g2_mean = np.mean(g2)\n",
    "g_pool = ((len(g1) - 1)*np.var(g1, ddof = 1) + (len(g2) - 1)*np.var(g2, ddof =1))/ (len(g1) + len(g2) -2)\n",
    "\n",
    "t_g = t(len(g1) + len(g2) - 2)\n",
    "\n",
    "ci_1 = (g1_mean - g2_mean) - t_g.ppf(0.975)*np.sqrt(g_pool)*np.sqrt(1/len(g1) + 1/len(g2))\n",
    "ci_2 = (g1_mean - g2_mean) + t_g.ppf(0.975)*np.sqrt(g_pool)*np.sqrt(1/len(g1) + 1/len(g2))\n",
    "\n",
    "print(\"The difference of means :\", np.round(g1_mean - g2_mean, 4))\n",
    "print(\"95% of CI of the difference of means is {} and {}\".format(np.round(ci_1, 4), np.round(ci_2, 4)))"
   ]
  },
  {
   "cell_type": "code",
   "execution_count": null,
   "id": "e5eb6487",
   "metadata": {},
   "outputs": [],
   "source": []
  },
  {
   "cell_type": "code",
   "execution_count": null,
   "id": "f20dcd18",
   "metadata": {},
   "outputs": [],
   "source": []
  }
 ],
 "metadata": {
  "kernelspec": {
   "display_name": "Python 3 (ipykernel)",
   "language": "python",
   "name": "python3"
  },
  "language_info": {
   "codemirror_mode": {
    "name": "ipython",
    "version": 3
   },
   "file_extension": ".py",
   "mimetype": "text/x-python",
   "name": "python",
   "nbconvert_exporter": "python",
   "pygments_lexer": "ipython3",
   "version": "3.9.2"
  }
 },
 "nbformat": 4,
 "nbformat_minor": 5
}
